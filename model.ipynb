{
 "cells": [
  {
   "cell_type": "code",
   "execution_count": 48,
   "metadata": {},
   "outputs": [],
   "source": [
    "# Imports die tot nu toe worden gebruikt\n",
    "import os\n",
    "import numpy as np\n",
    "import pandas as pd\n",
    "from tqdm import tqdm\n",
    "import SimpleITK as sitk\n",
    "import matplotlib.pyplot as plt\n"
   ]
  },
  {
   "cell_type": "code",
   "execution_count": 49,
   "metadata": {},
   "outputs": [],
   "source": [
    "# Initialiseren van maindir en folders. Update maindir naar eigen dir waar de folders staan die hieronder staan\n",
    "dirJelle = r'C:\\Users\\Jelle\\Downloads\\NLST\\NLST'\n",
    "maindir = dirJelle\n",
    "folders = [r'\\imagesTr', r'\\keypointsTr', r'\\masksTr']"
   ]
  },
  {
   "cell_type": "code",
   "execution_count": 50,
   "metadata": {},
   "outputs": [
    {
     "name": "stdout",
     "output_type": "stream",
     "text": [
      "image size: (224, 192, 224)\n",
      "image origin: (0.0, 0.0, 0.0)\n",
      "image spacing: (1.5, 1.5, 1.5)\n",
      "image width: 224\n",
      "image height: 192\n",
      "image depth: 224\n"
     ]
    }
   ],
   "source": [
    "# Het inladen van 1 image\n",
    "t1_fn = maindir + folders[0] + r'\\NLST_0001_0000.nii'\n",
    "\n",
    "# Read the .nii image containing the volume with SimpleITK:\n",
    "raw_img = sitk.ReadImage(t1_fn)\n",
    "\n",
    "# and access the numpy array:\n",
    "raw_np = sitk.GetArrayFromImage(raw_img)\n",
    "\n",
    "# Print image information\n",
    "print(f\"image size: {raw_img.GetSize()}\")\n",
    "print(f\"image origin: {raw_img.GetOrigin()}\")\n",
    "print(f\"image spacing: {raw_img.GetSpacing()}\")\n",
    "print(f\"image width: {raw_img.GetWidth()}\")\n",
    "print(f\"image height: {raw_img.GetHeight()}\")\n",
    "print(f\"image depth: {raw_img.GetDepth()}\")\n"
   ]
  },
  {
   "cell_type": "code",
   "execution_count": 51,
   "metadata": {},
   "outputs": [
    {
     "data": {
      "text/plain": [
       "Text(0.5, 1.0, 'raw data')"
      ]
     },
     "execution_count": 51,
     "metadata": {},
     "output_type": "execute_result"
    },
    {
     "data": {
      "image/png": "[encoded data removed]",
      "text/plain": [
       "<Figure size 432x288 with 1 Axes>"
      ]
     },
     "metadata": {
      "needs_background": "light"
     },
     "output_type": "display_data"
    }
   ],
   "source": [
    "# Hier plot ik een slice van de CT, verander de waarde van 'x' in raw_np[x] bij plt.imshow\n",
    "plt.subplot(1,2,1)\n",
    "plt.imshow(raw_np[100], cmap=\"gray\")\n",
    "plt.title(\"raw data\")"
   ]
  },
  {
   "cell_type": "code",
   "execution_count": 52,
   "metadata": {},
   "outputs": [],
   "source": [
    "def load_nii_files(directory, description):\n",
    "    nii_files = []\n",
    "\n",
    "    # Print the directory\n",
    "    print(f\"Listing files in directory: {directory}\")\n",
    "\n",
    "    # Get the list of files in the directory\n",
    "    file_list = os.listdir(directory)\n",
    "\n",
    "    # Wrap the file list with tqdm for progress bar\n",
    "    for filename in tqdm(file_list, desc=description, unit=\"file\"):\n",
    "        # Check if the file has a .nii.gz extension\n",
    "        if filename.endswith(\".nii.gz\"):\n",
    "            # Load the file using SimpleITK\n",
    "            file_path = os.path.join(directory, filename)\n",
    "            nii_file = sitk.ReadImage(file_path)\n",
    "            nii_files.append(nii_file)\n",
    "\n",
    "    return nii_files\n",
    "\n",
    "def load_csv_files(directory):\n",
    "    csv_files = []\n",
    "\n",
    "    # Print the directory\n",
    "    print(f\"Listing files in directory: {directory}\")\n",
    "\n",
    "    # Get the list of files in the directory\n",
    "    file_list = os.listdir(directory)\n",
    "\n",
    "    # Wrap the file list with tqdm for progress bar\n",
    "    for filename in tqdm(file_list, desc=\"Loading keypoints\", unit=\"file\"):\n",
    "        # Check if the file has a .csv extension\n",
    "        if filename.endswith(\".csv\"):\n",
    "            # Load the file using pandas\n",
    "            file_path = os.path.join(directory, filename)\n",
    "            csv_file = pd.read_csv(file_path)\n",
    "            csv_files.append(csv_file)\n",
    "\n",
    "    return csv_files\n",
    "\n",
    "\n"
   ]
  },
  {
   "cell_type": "code",
   "execution_count": 55,
   "metadata": {},
   "outputs": [
    {
     "name": "stdout",
     "output_type": "stream",
     "text": [
      "Listing files in directory: C:\\Users\\Jelle\\Downloads\\NLST\\NLST\\imagesTr\n"
     ]
    },
    {
     "name": "stderr",
     "output_type": "stream",
     "text": [
      "Loading images: 100%|██████████| 220/220 [00:42<00:00,  5.21file/s]\n"
     ]
    },
    {
     "name": "stdout",
     "output_type": "stream",
     "text": [
      "Loaded 220 .nii.gz images.\n",
      "Listing files in directory: C:\\Users\\Jelle\\Downloads\\NLST\\NLST\\masksTr\n"
     ]
    },
    {
     "name": "stderr",
     "output_type": "stream",
     "text": [
      "Loading masks: 100%|██████████| 220/220 [00:07<00:00, 30.93file/s]\n"
     ]
    },
    {
     "name": "stdout",
     "output_type": "stream",
     "text": [
      "Loaded 220 .nii.gz masks.\n",
      "Listing files in directory: C:\\Users\\Jelle\\Downloads\\NLST\\NLST\\keypointsTr\n"
     ]
    },
    {
     "name": "stderr",
     "output_type": "stream",
     "text": [
      "Loading keypoints: 100%|██████████| 200/200 [00:00<00:00, 262.70file/s]"
     ]
    },
    {
     "name": "stdout",
     "output_type": "stream",
     "text": [
      "Loaded 200 .csv files.\n"
     ]
    },
    {
     "name": "stderr",
     "output_type": "stream",
     "text": [
      "\n"
     ]
    }
   ],
   "source": [
    "# Usage example\n",
    "nii_directory = maindir+folders[0]\n",
    "images = load_nii_files(nii_directory, 'Loading images')\n",
    "\n",
    "# Check if any files were loaded\n",
    "if len(images) == 0:\n",
    "    print(\"No .nii.gz images were loaded.\")\n",
    "else:\n",
    "    print(f\"Loaded {len(images)} .nii.gz images.\")\n",
    "\n",
    "nii_directory = maindir+folders[2]\n",
    "masks = load_nii_files(nii_directory, 'Loading masks')\n",
    "\n",
    "# Check if any files were loaded\n",
    "if len(masks) == 0:\n",
    "    print(\"No .nii.gz masks were loaded.\")\n",
    "else:\n",
    "    print(f\"Loaded {len(masks)} .nii.gz masks.\")\n",
    "\n",
    "# Usage example\n",
    "csv_directory = maindir+folders[1]\n",
    "keypoints = load_csv_files(csv_directory)\n",
    "\n",
    "# Check if any files were loaded\n",
    "if len(keypoints) == 0:\n",
    "    print(\"No .csv files were loaded.\")\n",
    "else:\n",
    "    print(f\"Loaded {len(keypoints)} .csv files.\")\n"
   ]
  },
  {
   "cell_type": "code",
   "execution_count": null,
   "metadata": {},
   "outputs": [],
   "source": []
  }
 ],
 "metadata": {
  "kernelspec": {
   "display_name": "Python 3",
   "language": "python",
   "name": "python3"
  },
  "language_info": {
   "codemirror_mode": {
    "name": "ipython",
    "version": 3
   },
   "file_extension": ".py",
   "mimetype": "text/x-python",
   "name": "python",
   "nbconvert_exporter": "python",
   "pygments_lexer": "ipython3",
   "version": "3.10.11 (tags/v3.10.11:7d4cc5a, Apr  5 2023, 00:38:17) [MSC v.1929 64 bit (AMD64)]"
  },
  "orig_nbformat": 4,
  "vscode": {
   "interpreter": {
    "hash": "ba6cbbdfff5a3e0f3392eef4ef489c335b0e08e26cc8f1c2d02d13fe641810bd"
   }
  }
 },
 "nbformat": 4,
 "nbformat_minor": 2
}
