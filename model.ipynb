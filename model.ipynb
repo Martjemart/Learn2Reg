{
 "cells": [
  {
   "cell_type": "code",
   "execution_count": null,
   "metadata": {},
   "outputs": [],
   "source": [
    "import SimpleITK as sitk\n",
    "import numpy as np"
   ]
  },
  {
   "cell_type": "code",
   "execution_count": null,
   "metadata": {},
   "outputs": [],
   "source": [
    "maindir = r'C:\\Users\\Jelle\\Downloads\\NLST\\NLST'\n",
    "folders = ['imagesTr', 'keypointsTr', 'masksTr']\n",
    "images = keypoints = masks = []"
   ]
  }
 ],
 "metadata": {
  "kernelspec": {
   "display_name": "Python 3",
   "language": "python",
   "name": "python3"
  },
  "language_info": {
   "name": "python",
   "version": "3.10.11 (tags/v3.10.11:7d4cc5a, Apr  5 2023, 00:38:17) [MSC v.1929 64 bit (AMD64)]"
  },
  "orig_nbformat": 4,
  "vscode": {
   "interpreter": {
    "hash": "ba6cbbdfff5a3e0f3392eef4ef489c335b0e08e26cc8f1c2d02d13fe641810bd"
   }
  }
 },
 "nbformat": 4,
 "nbformat_minor": 2
}
